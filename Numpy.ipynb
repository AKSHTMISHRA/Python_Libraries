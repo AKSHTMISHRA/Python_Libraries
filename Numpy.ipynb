{
  "nbformat": 4,
  "nbformat_minor": 0,
  "metadata": {
    "colab": {
      "name": "Numpy.ipynb",
      "provenance": [],
      "collapsed_sections": [],
      "authorship_tag": "ABX9TyOYJDW+MFFg0bxWZnC7tnZP",
      "include_colab_link": true
    },
    "kernelspec": {
      "name": "python3",
      "display_name": "Python 3"
    },
    "language_info": {
      "name": "python"
    }
  },
  "cells": [
    {
      "cell_type": "markdown",
      "metadata": {
        "id": "view-in-github",
        "colab_type": "text"
      },
      "source": [
        "<a href=\"https://colab.research.google.com/github/AKSHTMISHRA/Python_libraries/blob/main/Numpy.ipynb\" target=\"_parent\"><img src=\"https://colab.research.google.com/assets/colab-badge.svg\" alt=\"Open In Colab\"/></a>"
      ]
    },
    {
      "cell_type": "code",
      "execution_count": 1,
      "metadata": {
        "id": "khYeliigFqd0"
      },
      "outputs": [],
      "source": [
        "#importing Numy dependency\n",
        "import numpy as np\n",
        " "
      ]
    },
    {
      "cell_type": "code",
      "source": [
        "#1d array using a provided list \n",
        "list1=([1,2,3,4])\n",
        "Numpy_arr=np.array(list1) \n"
      ],
      "metadata": {
        "id": "Yz93YqnkF8ng"
      },
      "execution_count": 2,
      "outputs": []
    },
    {
      "cell_type": "code",
      "source": [
        "Numpy_arr"
      ],
      "metadata": {
        "colab": {
          "base_uri": "https://localhost:8080/"
        },
        "id": "V9GzeA2XF9OP",
        "outputId": "3ec58d03-267b-4172-dab1-9f84c1d6cf8a"
      },
      "execution_count": 3,
      "outputs": [
        {
          "output_type": "execute_result",
          "data": {
            "text/plain": [
              "array([1, 2, 3, 4])"
            ]
          },
          "metadata": {},
          "execution_count": 3
        }
      ]
    },
    {
      "cell_type": "code",
      "source": [
        "#check type of numpy array \n",
        "type(Numpy_arr)\n"
      ],
      "metadata": {
        "colab": {
          "base_uri": "https://localhost:8080/"
        },
        "id": "1tjBVkoCGqXy",
        "outputId": "cf56737a-8b66-40b9-df22-2812f2fccde7"
      },
      "execution_count": 6,
      "outputs": [
        {
          "output_type": "execute_result",
          "data": {
            "text/plain": [
              "numpy.ndarray"
            ]
          },
          "metadata": {},
          "execution_count": 6
        }
      ]
    },
    {
      "cell_type": "code",
      "source": [
        "#checking shape of the numpy array \n",
        "Numpy_arr.shape\n"
      ],
      "metadata": {
        "colab": {
          "base_uri": "https://localhost:8080/"
        },
        "id": "cM8vnnyZF9Sa",
        "outputId": "ca1c2e94-d290-44c1-dbff-bce3b9005440"
      },
      "execution_count": 4,
      "outputs": [
        {
          "output_type": "execute_result",
          "data": {
            "text/plain": [
              "(4,)"
            ]
          },
          "metadata": {},
          "execution_count": 4
        }
      ]
    },
    {
      "cell_type": "code",
      "source": [
        "#reshaping the Numpy_arr\n",
        "# copy() function \n",
        "arr=Numpy_arr.copy()\n",
        "arr.reshape(2,2)"
      ],
      "metadata": {
        "colab": {
          "base_uri": "https://localhost:8080/"
        },
        "id": "XVKtq_w4Hel2",
        "outputId": "6dff1caf-a409-41f7-fd13-d1a5f9b4be9e"
      },
      "execution_count": 8,
      "outputs": [
        {
          "output_type": "execute_result",
          "data": {
            "text/plain": [
              "array([[1, 2],\n",
              "       [3, 4]])"
            ]
          },
          "metadata": {},
          "execution_count": 8
        }
      ]
    },
    {
      "cell_type": "code",
      "source": [
        "#checking the data type of the array \n",
        "Numpy_arr.dtype  "
      ],
      "metadata": {
        "colab": {
          "base_uri": "https://localhost:8080/"
        },
        "id": "g7oqBlaRF9WI",
        "outputId": "ee41cd89-aa7b-437a-e9ea-0735b97dbe3e"
      },
      "execution_count": 5,
      "outputs": [
        {
          "output_type": "execute_result",
          "data": {
            "text/plain": [
              "dtype('int64')"
            ]
          },
          "metadata": {},
          "execution_count": 5
        }
      ]
    },
    {
      "cell_type": "code",
      "source": [
        "#2d Numpy array using given list\n",
        "list1=([1,2,3,4])\n",
        "list2=([5,6,7,8])\n",
        "list3=([9,10,11,12]) \n"
      ],
      "metadata": {
        "id": "nla6-P7nF9Z6"
      },
      "execution_count": 13,
      "outputs": []
    },
    {
      "cell_type": "code",
      "source": [
        "d_arr=np.array([list1,list2,list3])"
      ],
      "metadata": {
        "id": "R5aPYrssF9dT"
      },
      "execution_count": 18,
      "outputs": []
    },
    {
      "cell_type": "code",
      "source": [
        "#checking the size \n",
        "d_arr.shape\n"
      ],
      "metadata": {
        "colab": {
          "base_uri": "https://localhost:8080/"
        },
        "id": "puatz5BLF9gx",
        "outputId": "5eb9a2fa-6fec-4e3e-cc73-5a8899143a4c"
      },
      "execution_count": 19,
      "outputs": [
        {
          "output_type": "execute_result",
          "data": {
            "text/plain": [
              "(3, 4)"
            ]
          },
          "metadata": {},
          "execution_count": 19
        }
      ]
    },
    {
      "cell_type": "code",
      "source": [
        "d_arr.dtype"
      ],
      "metadata": {
        "colab": {
          "base_uri": "https://localhost:8080/"
        },
        "id": "fNgspk0UF9kp",
        "outputId": "5d59797a-16fc-4142-ea9b-9101043d4160"
      },
      "execution_count": 20,
      "outputs": [
        {
          "output_type": "execute_result",
          "data": {
            "text/plain": [
              "dtype('int64')"
            ]
          },
          "metadata": {},
          "execution_count": 20
        }
      ]
    },
    {
      "cell_type": "code",
      "source": [
        "#reshaping the d_arr\n",
        "temp_d_arr=d_arr.copy()\n",
        "temp_d_arr.reshape(4,3)"
      ],
      "metadata": {
        "colab": {
          "base_uri": "https://localhost:8080/"
        },
        "id": "Mk52w7IrF9rc",
        "outputId": "52e2563f-005e-4202-e7c3-f3cda36a23ac"
      },
      "execution_count": 22,
      "outputs": [
        {
          "output_type": "execute_result",
          "data": {
            "text/plain": [
              "array([[ 1,  2,  3],\n",
              "       [ 4,  5,  6],\n",
              "       [ 7,  8,  9],\n",
              "       [10, 11, 12]])"
            ]
          },
          "metadata": {},
          "execution_count": 22
        }
      ]
    },
    {
      "cell_type": "markdown",
      "source": [
        "NOTE: \n",
        "while reshapeing  any 2-dimensional array it is to be kept in mind that\n",
        "the arg1 and arg2 of reshaping    && the original arguments i.e. Oarg1,Oarg2\n",
        "==> arg1 x arg2 == Oarg1 x Oarg2\n"
      ],
      "metadata": {
        "id": "im8ZNLXkJ43y"
      }
    },
    {
      "cell_type": "code",
      "source": [
        "##applicable\n",
        "#temp_d_arr.reshape(1,12)\n",
        "#temp_d_arr.reshape(2,6)\n",
        "temp_d_arr.reshape(6,2)"
      ],
      "metadata": {
        "colab": {
          "base_uri": "https://localhost:8080/"
        },
        "id": "4nMoB5apF9yI",
        "outputId": "51b47fe0-1c78-4dae-bd43-6da1e8d5d647"
      },
      "execution_count": 26,
      "outputs": [
        {
          "output_type": "execute_result",
          "data": {
            "text/plain": [
              "array([[ 1,  2],\n",
              "       [ 3,  4],\n",
              "       [ 5,  6],\n",
              "       [ 7,  8],\n",
              "       [ 9, 10],\n",
              "       [11, 12]])"
            ]
          },
          "metadata": {},
          "execution_count": 26
        }
      ]
    },
    {
      "cell_type": "code",
      "source": [
        "#unapplicable\n",
        "temp_d_arr.reshape(3,6)"
      ],
      "metadata": {
        "colab": {
          "base_uri": "https://localhost:8080/",
          "height": 183
        },
        "id": "Tmv_P8y2F91t",
        "outputId": "1210d459-cb3a-4732-e9ab-f5a64333adc8"
      },
      "execution_count": 24,
      "outputs": [
        {
          "output_type": "error",
          "ename": "ValueError",
          "evalue": "ignored",
          "traceback": [
            "\u001b[0;31m---------------------------------------------------------------------------\u001b[0m",
            "\u001b[0;31mValueError\u001b[0m                                Traceback (most recent call last)",
            "\u001b[0;32m<ipython-input-24-599fb605a600>\u001b[0m in \u001b[0;36m<module>\u001b[0;34m()\u001b[0m\n\u001b[1;32m      1\u001b[0m \u001b[0;31m#unapplicable\u001b[0m\u001b[0;34m\u001b[0m\u001b[0;34m\u001b[0m\u001b[0;34m\u001b[0m\u001b[0m\n\u001b[0;32m----> 2\u001b[0;31m \u001b[0mtemp_d_arr\u001b[0m\u001b[0;34m.\u001b[0m\u001b[0mreshape\u001b[0m\u001b[0;34m(\u001b[0m\u001b[0;36m3\u001b[0m\u001b[0;34m,\u001b[0m\u001b[0;36m6\u001b[0m\u001b[0;34m)\u001b[0m\u001b[0;34m\u001b[0m\u001b[0;34m\u001b[0m\u001b[0m\n\u001b[0m",
            "\u001b[0;31mValueError\u001b[0m: cannot reshape array of size 12 into shape (3,6)"
          ]
        }
      ]
    },
    {
      "cell_type": "markdown",
      "source": [
        "# INDEXING  in numpy array  \n",
        "\n",
        "\n"
      ],
      "metadata": {
        "id": "y6ZN0lMxOQzk"
      }
    },
    {
      "cell_type": "markdown",
      "source": [
        "while indexing in a numpy array it should always  be remembered that the indexing in python always starts from 0."
      ],
      "metadata": {
        "id": "qSs9F1L1Ojyw"
      }
    },
    {
      "cell_type": "code",
      "source": [
        "#indexing 1d arr \n",
        "Numpy_arr\n"
      ],
      "metadata": {
        "colab": {
          "base_uri": "https://localhost:8080/"
        },
        "id": "3qIygierF95N",
        "outputId": "6cb4dd0e-9bea-4239-978a-3c720186930f"
      },
      "execution_count": 29,
      "outputs": [
        {
          "output_type": "execute_result",
          "data": {
            "text/plain": [
              "array([1, 2, 3, 4])"
            ]
          },
          "metadata": {},
          "execution_count": 29
        }
      ]
    },
    {
      "cell_type": "markdown",
      "source": [
        "while using : based indexing \n",
        "numpy_array[arg1,arg2]\n",
        "here,\n",
        "\n",
        "*   arg1--> always inclusive\n",
        "*   arg2--> always exclusive\n",
        "\n",
        "\n"
      ],
      "metadata": {
        "id": "RCanDrj9RAqZ"
      }
    },
    {
      "cell_type": "code",
      "source": [
        "#accesing random any element \n",
        "Numpy_arr[1]"
      ],
      "metadata": {
        "colab": {
          "base_uri": "https://localhost:8080/"
        },
        "id": "vWlkAH6XF98d",
        "outputId": "dce589d8-65e2-413a-d4a0-dc23ebd0212f"
      },
      "execution_count": 32,
      "outputs": [
        {
          "output_type": "execute_result",
          "data": {
            "text/plain": [
              "2"
            ]
          },
          "metadata": {},
          "execution_count": 32
        }
      ]
    },
    {
      "cell_type": "code",
      "source": [
        "Numpy_arr[:3]"
      ],
      "metadata": {
        "colab": {
          "base_uri": "https://localhost:8080/"
        },
        "id": "Xu-86dLtF-AP",
        "outputId": "eb60c401-02a9-413c-aac8-140e973bbbf5"
      },
      "execution_count": 33,
      "outputs": [
        {
          "output_type": "execute_result",
          "data": {
            "text/plain": [
              "array([1, 2, 3])"
            ]
          },
          "metadata": {},
          "execution_count": 33
        }
      ]
    },
    {
      "cell_type": "code",
      "source": [
        "Numpy_arr[1:3]"
      ],
      "metadata": {
        "colab": {
          "base_uri": "https://localhost:8080/"
        },
        "id": "lmxI2FPXF-D3",
        "outputId": "ae7f6eeb-67fe-4c89-e4e5-c9cebf439189"
      },
      "execution_count": 35,
      "outputs": [
        {
          "output_type": "execute_result",
          "data": {
            "text/plain": [
              "array([2, 3])"
            ]
          },
          "metadata": {},
          "execution_count": 35
        }
      ]
    },
    {
      "cell_type": "code",
      "source": [
        "Numpy_arr[:]\n",
        "#   OR"
      ],
      "metadata": {
        "colab": {
          "base_uri": "https://localhost:8080/"
        },
        "id": "I1bDc8zKF-HZ",
        "outputId": "0a997427-d75e-432b-9e54-6692df7399dd"
      },
      "execution_count": 38,
      "outputs": [
        {
          "output_type": "execute_result",
          "data": {
            "text/plain": [
              "array([1, 2, 3])"
            ]
          },
          "metadata": {},
          "execution_count": 38
        }
      ]
    },
    {
      "cell_type": "code",
      "source": [
        "# indexing from back of the array \n",
        "Numpy_arr[:-1]\n",
        "Numpy_arr[:-3]"
      ],
      "metadata": {
        "colab": {
          "base_uri": "https://localhost:8080/"
        },
        "id": "TQPG63xNF-Ky",
        "outputId": "17cb3db9-7a41-4f6d-b14e-52ae8de32cfb"
      },
      "execution_count": 39,
      "outputs": [
        {
          "output_type": "execute_result",
          "data": {
            "text/plain": [
              "array([1])"
            ]
          },
          "metadata": {},
          "execution_count": 39
        }
      ]
    },
    {
      "cell_type": "code",
      "source": [
        "#indexing in 2d numpy array \n",
        "d_arr"
      ],
      "metadata": {
        "colab": {
          "base_uri": "https://localhost:8080/"
        },
        "id": "jTNchxL4F-OO",
        "outputId": "d9915b42-c6d7-4a3c-eb4e-6fa02bd7f56a"
      },
      "execution_count": 41,
      "outputs": [
        {
          "output_type": "execute_result",
          "data": {
            "text/plain": [
              "array([[ 1,  2,  3,  4],\n",
              "       [ 5,  6,  7,  8],\n",
              "       [ 9, 10, 11, 12]])"
            ]
          },
          "metadata": {},
          "execution_count": 41
        }
      ]
    },
    {
      "cell_type": "code",
      "source": [
        "#printing all the elements \n",
        "d_arr[:,:]"
      ],
      "metadata": {
        "colab": {
          "base_uri": "https://localhost:8080/"
        },
        "id": "nqB8MGvlF-R9",
        "outputId": "788ead91-1007-4877-dd03-5924163a341c"
      },
      "execution_count": 42,
      "outputs": [
        {
          "output_type": "execute_result",
          "data": {
            "text/plain": [
              "array([[ 1,  2,  3,  4],\n",
              "       [ 5,  6,  7,  8],\n",
              "       [ 9, 10, 11, 12]])"
            ]
          },
          "metadata": {},
          "execution_count": 42
        }
      ]
    },
    {
      "cell_type": "markdown",
      "source": [
        "while indexing in 2-dimensional Numpy array\n",
        "---\n",
        "\n",
        "Syntax: 2-Dimensinal_Numpy_Array[arg1:arg2,arg1*:arg2*]\n",
        "1.   arg1,arg1* ==> always inclusive \n",
        "2.   arg2,arg2* ==> always exclusive\n"
      ],
      "metadata": {
        "id": "5uSK0QzyRxKa"
      }
    },
    {
      "cell_type": "code",
      "source": [
        "d_arr[1:]"
      ],
      "metadata": {
        "colab": {
          "base_uri": "https://localhost:8080/"
        },
        "id": "KP7bTOfXF-Vl",
        "outputId": "2498fdbc-ac87-4c87-f4d2-9739f6d8aba6"
      },
      "execution_count": 43,
      "outputs": [
        {
          "output_type": "execute_result",
          "data": {
            "text/plain": [
              "array([[ 5,  6,  7,  8],\n",
              "       [ 9, 10, 11, 12]])"
            ]
          },
          "metadata": {},
          "execution_count": 43
        }
      ]
    },
    {
      "cell_type": "code",
      "source": [
        "d_arr[1:2,1:3]"
      ],
      "metadata": {
        "colab": {
          "base_uri": "https://localhost:8080/"
        },
        "id": "UlZVRC83F-Yt",
        "outputId": "fcb4c21d-9f4e-4767-8037-a1c5c1287fea"
      },
      "execution_count": 45,
      "outputs": [
        {
          "output_type": "execute_result",
          "data": {
            "text/plain": [
              "array([[6, 7]])"
            ]
          },
          "metadata": {},
          "execution_count": 45
        }
      ]
    },
    {
      "cell_type": "code",
      "source": [
        "d_arr[:-1]"
      ],
      "metadata": {
        "colab": {
          "base_uri": "https://localhost:8080/"
        },
        "id": "Zdwe3fRRF-cF",
        "outputId": "6ad51e0e-b3a2-45fa-b713-21312bdaa3b7"
      },
      "execution_count": 46,
      "outputs": [
        {
          "output_type": "execute_result",
          "data": {
            "text/plain": [
              "array([[1, 2, 3, 4],\n",
              "       [5, 6, 7, 8]])"
            ]
          },
          "metadata": {},
          "execution_count": 46
        }
      ]
    },
    {
      "cell_type": "markdown",
      "source": [
        "### creating NUMPY ARRAY on the go \n",
        "arange() function\n",
        "syntax: arange(low,high,step=)\n",
        "here,\n",
        "\n",
        "\n",
        "\n",
        "1.   low- value always inclusive\n",
        "2.   high- value always exclusive \n",
        "3.   step- difference between the values \n",
        "\n",
        "\n"
      ],
      "metadata": {
        "id": "ZEKNVQbVUiPX"
      }
    },
    {
      "cell_type": "code",
      "source": [
        "arr=np.arange(0,10)\n",
        "arr"
      ],
      "metadata": {
        "colab": {
          "base_uri": "https://localhost:8080/"
        },
        "id": "NlTUSUBaF-fI",
        "outputId": "02fbfd52-a8c2-4c9c-d063-a645628a72d2"
      },
      "execution_count": 49,
      "outputs": [
        {
          "output_type": "execute_result",
          "data": {
            "text/plain": [
              "array([0, 1, 2, 3, 4, 5, 6, 7, 8, 9])"
            ]
          },
          "metadata": {},
          "execution_count": 49
        }
      ]
    },
    {
      "cell_type": "code",
      "source": [
        "arr=np.arange(0,10,step=2)\n",
        "arr"
      ],
      "metadata": {
        "colab": {
          "base_uri": "https://localhost:8080/"
        },
        "id": "M8-SFFTRF-iX",
        "outputId": "eacfa784-fee9-44b9-c0ab-22eca70f8ae2"
      },
      "execution_count": 51,
      "outputs": [
        {
          "output_type": "execute_result",
          "data": {
            "text/plain": [
              "array([0, 2, 4, 6, 8])"
            ]
          },
          "metadata": {},
          "execution_count": 51
        }
      ]
    },
    {
      "cell_type": "code",
      "source": [
        "#linspace() function\n",
        "#Return evenly spaced numbers over a specified interval.\n",
        "np.linspace(1,10,50,dtype=int) "
      ],
      "metadata": {
        "colab": {
          "base_uri": "https://localhost:8080/"
        },
        "id": "mkrOMH1dF-lo",
        "outputId": "6d833ab1-e6dd-441d-8ce8-06ae797f9513"
      },
      "execution_count": 55,
      "outputs": [
        {
          "output_type": "execute_result",
          "data": {
            "text/plain": [
              "array([ 1,  1,  1,  1,  1,  1,  2,  2,  2,  2,  2,  3,  3,  3,  3,  3,  3,\n",
              "        4,  4,  4,  4,  4,  5,  5,  5,  5,  5,  5,  6,  6,  6,  6,  6,  7,\n",
              "        7,  7,  7,  7,  7,  8,  8,  8,  8,  8,  9,  9,  9,  9,  9, 10])"
            ]
          },
          "metadata": {},
          "execution_count": 55
        }
      ]
    },
    {
      "cell_type": "code",
      "source": [
        ""
      ],
      "metadata": {
        "id": "G1woXmt9F-ox"
      },
      "execution_count": null,
      "outputs": []
    },
    {
      "cell_type": "markdown",
      "source": [
        "### for values with conditions"
      ],
      "metadata": {
        "id": "L2OCL79oYBC2"
      }
    },
    {
      "cell_type": "code",
      "source": [
        "Numpy_arr\n"
      ],
      "metadata": {
        "colab": {
          "base_uri": "https://localhost:8080/"
        },
        "id": "kOq-ad82F-rm",
        "outputId": "b6454216-26c9-4a5b-a65e-65ab0ee4e32a"
      },
      "execution_count": 56,
      "outputs": [
        {
          "output_type": "execute_result",
          "data": {
            "text/plain": [
              "array([1, 2, 3, 4])"
            ]
          },
          "metadata": {},
          "execution_count": 56
        }
      ]
    },
    {
      "cell_type": "code",
      "source": [
        "Numpy_arr < 4"
      ],
      "metadata": {
        "colab": {
          "base_uri": "https://localhost:8080/"
        },
        "id": "ey1svp5QF-uf",
        "outputId": "0944adae-6c69-4f6b-bd61-defc2471c7b8"
      },
      "execution_count": 57,
      "outputs": [
        {
          "output_type": "execute_result",
          "data": {
            "text/plain": [
              "array([ True,  True,  True, False])"
            ]
          },
          "metadata": {},
          "execution_count": 57
        }
      ]
    },
    {
      "cell_type": "code",
      "source": [
        "#for values\n",
        "Numpy_arr[Numpy_arr<4]"
      ],
      "metadata": {
        "colab": {
          "base_uri": "https://localhost:8080/"
        },
        "id": "BuAUnctfF-xg",
        "outputId": "f48ed9a0-4aa1-481c-d188-9d76858ece35"
      },
      "execution_count": 58,
      "outputs": [
        {
          "output_type": "execute_result",
          "data": {
            "text/plain": [
              "array([1, 2, 3])"
            ]
          },
          "metadata": {},
          "execution_count": 58
        }
      ]
    },
    {
      "cell_type": "markdown",
      "source": [
        "## array with values only 1's or 0's\n",
        "\n",
        "\n",
        "*   ones() function\n",
        "*   zeroes() funcion   \n",
        "\n",
        "\n",
        " "
      ],
      "metadata": {
        "id": "pwzAxiGzYa-_"
      }
    },
    {
      "cell_type": "code",
      "source": [
        ""
      ],
      "metadata": {
        "id": "tyolOguDF-1C"
      },
      "execution_count": null,
      "outputs": []
    },
    {
      "cell_type": "code",
      "source": [
        ""
      ],
      "metadata": {
        "id": "PjTPMjnnF-4a"
      },
      "execution_count": null,
      "outputs": []
    }
  ]
}