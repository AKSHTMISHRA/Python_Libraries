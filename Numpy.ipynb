{
  "nbformat": 4,
  "nbformat_minor": 0,
  "metadata": {
    "colab": {
      "name": "Numpy.ipynb",
      "provenance": [],
      "collapsed_sections": [],
      "authorship_tag": "ABX9TyMWwrfjXWw51htA/xBZ0G8g",
      "include_colab_link": true
    },
    "kernelspec": {
      "name": "python3",
      "display_name": "Python 3"
    },
    "language_info": {
      "name": "python"
    }
  },
  "cells": [
    {
      "cell_type": "markdown",
      "metadata": {
        "id": "view-in-github",
        "colab_type": "text"
      },
      "source": [
        "<a href=\"https://colab.research.google.com/github/AKSHTMISHRA/Python_libraries/blob/main/Numpy.ipynb\" target=\"_parent\"><img src=\"https://colab.research.google.com/assets/colab-badge.svg\" alt=\"Open In Colab\"/></a>"
      ]
    },
    {
      "cell_type": "code",
      "execution_count": 69,
      "metadata": {
        "id": "khYeliigFqd0"
      },
      "outputs": [],
      "source": [
        "#importing Numy dependency\n",
        "import numpy as np\n",
        " "
      ]
    },
    {
      "cell_type": "code",
      "source": [
        "#1d array using a provided list \n",
        "list1=([1,2,3,4])\n",
        "Numpy_arr=np.array(list1) \n"
      ],
      "metadata": {
        "id": "Yz93YqnkF8ng"
      },
      "execution_count": 70,
      "outputs": []
    },
    {
      "cell_type": "code",
      "source": [
        "Numpy_arr"
      ],
      "metadata": {
        "colab": {
          "base_uri": "https://localhost:8080/"
        },
        "id": "V9GzeA2XF9OP",
        "outputId": "3ab35a7d-e9fa-49b1-f73e-373864b60570"
      },
      "execution_count": 71,
      "outputs": [
        {
          "output_type": "execute_result",
          "data": {
            "text/plain": [
              "array([1, 2, 3, 4])"
            ]
          },
          "metadata": {},
          "execution_count": 71
        }
      ]
    },
    {
      "cell_type": "code",
      "source": [
        "#check type of numpy array \n",
        "type(Numpy_arr)\n"
      ],
      "metadata": {
        "colab": {
          "base_uri": "https://localhost:8080/"
        },
        "id": "1tjBVkoCGqXy",
        "outputId": "a7af0738-fe19-4b47-bc61-981ca1f145ba"
      },
      "execution_count": 72,
      "outputs": [
        {
          "output_type": "execute_result",
          "data": {
            "text/plain": [
              "numpy.ndarray"
            ]
          },
          "metadata": {},
          "execution_count": 72
        }
      ]
    },
    {
      "cell_type": "code",
      "source": [
        "#checking shape of the numpy array \n",
        "Numpy_arr.shape\n"
      ],
      "metadata": {
        "colab": {
          "base_uri": "https://localhost:8080/"
        },
        "id": "cM8vnnyZF9Sa",
        "outputId": "e75b9a54-8302-4466-e1b7-39bdace12258"
      },
      "execution_count": 73,
      "outputs": [
        {
          "output_type": "execute_result",
          "data": {
            "text/plain": [
              "(4,)"
            ]
          },
          "metadata": {},
          "execution_count": 73
        }
      ]
    },
    {
      "cell_type": "code",
      "source": [
        "#reshaping the Numpy_arr\n",
        "# copy() function \n",
        "arr=Numpy_arr.copy()\n",
        "arr.reshape(2,2)"
      ],
      "metadata": {
        "colab": {
          "base_uri": "https://localhost:8080/"
        },
        "id": "XVKtq_w4Hel2",
        "outputId": "a83fc4a8-507b-45c1-b1d0-b5b608ae3dfc"
      },
      "execution_count": 74,
      "outputs": [
        {
          "output_type": "execute_result",
          "data": {
            "text/plain": [
              "array([[1, 2],\n",
              "       [3, 4]])"
            ]
          },
          "metadata": {},
          "execution_count": 74
        }
      ]
    },
    {
      "cell_type": "code",
      "source": [
        "#checking the data type of the array \n",
        "Numpy_arr.dtype  "
      ],
      "metadata": {
        "colab": {
          "base_uri": "https://localhost:8080/"
        },
        "id": "g7oqBlaRF9WI",
        "outputId": "8ba87d83-e0f5-4a51-c4cc-eed1106236e6"
      },
      "execution_count": 75,
      "outputs": [
        {
          "output_type": "execute_result",
          "data": {
            "text/plain": [
              "dtype('int64')"
            ]
          },
          "metadata": {},
          "execution_count": 75
        }
      ]
    },
    {
      "cell_type": "code",
      "source": [
        "#2d Numpy array using given list\n",
        "list1=([1,2,3,4])\n",
        "list2=([5,6,7,8])\n",
        "list3=([9,10,11,12]) \n"
      ],
      "metadata": {
        "id": "nla6-P7nF9Z6"
      },
      "execution_count": 76,
      "outputs": []
    },
    {
      "cell_type": "code",
      "source": [
        "d_arr=np.array([list1,list2,list3])"
      ],
      "metadata": {
        "id": "R5aPYrssF9dT"
      },
      "execution_count": 77,
      "outputs": []
    },
    {
      "cell_type": "code",
      "source": [
        "#checking the size \n",
        "d_arr.shape\n"
      ],
      "metadata": {
        "colab": {
          "base_uri": "https://localhost:8080/"
        },
        "id": "puatz5BLF9gx",
        "outputId": "f38d2da4-d13a-4751-c4a0-be2a309afc1b"
      },
      "execution_count": 78,
      "outputs": [
        {
          "output_type": "execute_result",
          "data": {
            "text/plain": [
              "(3, 4)"
            ]
          },
          "metadata": {},
          "execution_count": 78
        }
      ]
    },
    {
      "cell_type": "code",
      "source": [
        "d_arr.dtype"
      ],
      "metadata": {
        "colab": {
          "base_uri": "https://localhost:8080/"
        },
        "id": "fNgspk0UF9kp",
        "outputId": "f68cda85-647a-4afb-b75b-96ae808ead5a"
      },
      "execution_count": 79,
      "outputs": [
        {
          "output_type": "execute_result",
          "data": {
            "text/plain": [
              "dtype('int64')"
            ]
          },
          "metadata": {},
          "execution_count": 79
        }
      ]
    },
    {
      "cell_type": "code",
      "source": [
        "#reshaping the d_arr\n",
        "temp_d_arr=d_arr.copy()\n",
        "temp_d_arr.reshape(4,3)"
      ],
      "metadata": {
        "colab": {
          "base_uri": "https://localhost:8080/"
        },
        "id": "Mk52w7IrF9rc",
        "outputId": "bfb6f112-496f-4c85-c134-08a28bf5d6ab"
      },
      "execution_count": 80,
      "outputs": [
        {
          "output_type": "execute_result",
          "data": {
            "text/plain": [
              "array([[ 1,  2,  3],\n",
              "       [ 4,  5,  6],\n",
              "       [ 7,  8,  9],\n",
              "       [10, 11, 12]])"
            ]
          },
          "metadata": {},
          "execution_count": 80
        }
      ]
    },
    {
      "cell_type": "markdown",
      "source": [
        "NOTE: \n",
        "while reshapeing  any 2-dimensional array it is to be kept in mind that\n",
        "the arg1 and arg2 of reshaping    && the original arguments i.e. Oarg1,Oarg2\n",
        "==> arg1 x arg2 == Oarg1 x Oarg2\n"
      ],
      "metadata": {
        "id": "im8ZNLXkJ43y"
      }
    },
    {
      "cell_type": "code",
      "source": [
        "##applicable\n",
        "#temp_d_arr.reshape(1,12)\n",
        "#temp_d_arr.reshape(2,6)\n",
        "temp_d_arr.reshape(6,2)"
      ],
      "metadata": {
        "colab": {
          "base_uri": "https://localhost:8080/"
        },
        "id": "4nMoB5apF9yI",
        "outputId": "5b374a74-0e1d-436c-93fe-902028fc16fd"
      },
      "execution_count": 81,
      "outputs": [
        {
          "output_type": "execute_result",
          "data": {
            "text/plain": [
              "array([[ 1,  2],\n",
              "       [ 3,  4],\n",
              "       [ 5,  6],\n",
              "       [ 7,  8],\n",
              "       [ 9, 10],\n",
              "       [11, 12]])"
            ]
          },
          "metadata": {},
          "execution_count": 81
        }
      ]
    },
    {
      "cell_type": "code",
      "source": [
        "#unapplicable\n",
        "temp_d_arr.reshape(3,6)"
      ],
      "metadata": {
        "colab": {
          "base_uri": "https://localhost:8080/",
          "height": 183
        },
        "id": "Tmv_P8y2F91t",
        "outputId": "654ae2c9-ab82-4602-b2bf-82e8099deea5"
      },
      "execution_count": 82,
      "outputs": [
        {
          "output_type": "error",
          "ename": "ValueError",
          "evalue": "ignored",
          "traceback": [
            "\u001b[0;31m---------------------------------------------------------------------------\u001b[0m",
            "\u001b[0;31mValueError\u001b[0m                                Traceback (most recent call last)",
            "\u001b[0;32m<ipython-input-82-599fb605a600>\u001b[0m in \u001b[0;36m<module>\u001b[0;34m()\u001b[0m\n\u001b[1;32m      1\u001b[0m \u001b[0;31m#unapplicable\u001b[0m\u001b[0;34m\u001b[0m\u001b[0;34m\u001b[0m\u001b[0;34m\u001b[0m\u001b[0m\n\u001b[0;32m----> 2\u001b[0;31m \u001b[0mtemp_d_arr\u001b[0m\u001b[0;34m.\u001b[0m\u001b[0mreshape\u001b[0m\u001b[0;34m(\u001b[0m\u001b[0;36m3\u001b[0m\u001b[0;34m,\u001b[0m\u001b[0;36m6\u001b[0m\u001b[0;34m)\u001b[0m\u001b[0;34m\u001b[0m\u001b[0;34m\u001b[0m\u001b[0m\n\u001b[0m",
            "\u001b[0;31mValueError\u001b[0m: cannot reshape array of size 12 into shape (3,6)"
          ]
        }
      ]
    },
    {
      "cell_type": "markdown",
      "source": [
        "# INDEXING  in numpy array  \n",
        "\n",
        "\n"
      ],
      "metadata": {
        "id": "y6ZN0lMxOQzk"
      }
    },
    {
      "cell_type": "markdown",
      "source": [
        "while indexing in a numpy array it should always  be remembered that the indexing in python always starts from 0."
      ],
      "metadata": {
        "id": "qSs9F1L1Ojyw"
      }
    },
    {
      "cell_type": "code",
      "source": [
        "#indexing 1d arr \n",
        "Numpy_arr\n"
      ],
      "metadata": {
        "id": "3qIygierF95N"
      },
      "execution_count": null,
      "outputs": []
    },
    {
      "cell_type": "markdown",
      "source": [
        "while using : based indexing \n",
        "numpy_array[arg1,arg2]\n",
        "here,\n",
        "\n",
        "*   arg1--> always inclusive\n",
        "*   arg2--> always exclusive\n",
        "\n",
        "\n"
      ],
      "metadata": {
        "id": "RCanDrj9RAqZ"
      }
    },
    {
      "cell_type": "code",
      "source": [
        "#accesing random any element \n",
        "Numpy_arr[1]"
      ],
      "metadata": {
        "id": "vWlkAH6XF98d"
      },
      "execution_count": null,
      "outputs": []
    },
    {
      "cell_type": "code",
      "source": [
        "Numpy_arr[:3]"
      ],
      "metadata": {
        "id": "Xu-86dLtF-AP"
      },
      "execution_count": null,
      "outputs": []
    },
    {
      "cell_type": "code",
      "source": [
        "Numpy_arr[1:3]"
      ],
      "metadata": {
        "id": "lmxI2FPXF-D3"
      },
      "execution_count": null,
      "outputs": []
    },
    {
      "cell_type": "code",
      "source": [
        "Numpy_arr[:]\n",
        "#   OR"
      ],
      "metadata": {
        "id": "I1bDc8zKF-HZ"
      },
      "execution_count": null,
      "outputs": []
    },
    {
      "cell_type": "code",
      "source": [
        "# indexing from back of the array \n",
        "Numpy_arr[:-1]\n",
        "Numpy_arr[:-3]"
      ],
      "metadata": {
        "id": "TQPG63xNF-Ky"
      },
      "execution_count": null,
      "outputs": []
    },
    {
      "cell_type": "code",
      "source": [
        "#indexing in 2d numpy array \n",
        "d_arr"
      ],
      "metadata": {
        "id": "jTNchxL4F-OO"
      },
      "execution_count": null,
      "outputs": []
    },
    {
      "cell_type": "code",
      "source": [
        "#printing all the elements \n",
        "d_arr[:,:]"
      ],
      "metadata": {
        "id": "nqB8MGvlF-R9"
      },
      "execution_count": null,
      "outputs": []
    },
    {
      "cell_type": "markdown",
      "source": [
        "while indexing in 2-dimensional Numpy array\n",
        "---\n",
        "\n",
        "Syntax: 2-Dimensinal_Numpy_Array[arg1:arg2,arg1*:arg2*]\n",
        "1.   arg1,arg1* ==> always inclusive \n",
        "2.   arg2,arg2* ==> always exclusive\n"
      ],
      "metadata": {
        "id": "5uSK0QzyRxKa"
      }
    },
    {
      "cell_type": "code",
      "source": [
        "d_arr[1:]"
      ],
      "metadata": {
        "id": "KP7bTOfXF-Vl"
      },
      "execution_count": null,
      "outputs": []
    },
    {
      "cell_type": "code",
      "source": [
        "d_arr[1:2,1:3]"
      ],
      "metadata": {
        "id": "UlZVRC83F-Yt"
      },
      "execution_count": null,
      "outputs": []
    },
    {
      "cell_type": "code",
      "source": [
        "d_arr[:-1]"
      ],
      "metadata": {
        "id": "Zdwe3fRRF-cF"
      },
      "execution_count": null,
      "outputs": []
    },
    {
      "cell_type": "markdown",
      "source": [
        "### creating NUMPY ARRAY on the go \n",
        "arange() function\n",
        "syntax: arange(low,high,step=)\n",
        "here,\n",
        "\n",
        "\n",
        "\n",
        "1.   low- value always inclusive\n",
        "2.   high- value always exclusive \n",
        "3.   step- difference between the values \n",
        "\n",
        "\n"
      ],
      "metadata": {
        "id": "ZEKNVQbVUiPX"
      }
    },
    {
      "cell_type": "code",
      "source": [
        "arr=np.arange(0,10)\n",
        "arr"
      ],
      "metadata": {
        "id": "NlTUSUBaF-fI"
      },
      "execution_count": null,
      "outputs": []
    },
    {
      "cell_type": "code",
      "source": [
        "arr=np.arange(0,10,step=2)\n",
        "arr"
      ],
      "metadata": {
        "id": "M8-SFFTRF-iX"
      },
      "execution_count": null,
      "outputs": []
    },
    {
      "cell_type": "code",
      "source": [
        "#linspace() function\n",
        "#Return evenly spaced numbers over a specified interval.\n",
        "np.linspace(1,10,50,dtype=int) "
      ],
      "metadata": {
        "id": "mkrOMH1dF-lo"
      },
      "execution_count": null,
      "outputs": []
    },
    {
      "cell_type": "markdown",
      "source": [
        "### for values with conditions"
      ],
      "metadata": {
        "id": "L2OCL79oYBC2"
      }
    },
    {
      "cell_type": "code",
      "source": [
        "Numpy_arr\n"
      ],
      "metadata": {
        "id": "kOq-ad82F-rm"
      },
      "execution_count": null,
      "outputs": []
    },
    {
      "cell_type": "code",
      "source": [
        "Numpy_arr < 4"
      ],
      "metadata": {
        "id": "ey1svp5QF-uf"
      },
      "execution_count": null,
      "outputs": []
    },
    {
      "cell_type": "code",
      "source": [
        "#for values\n",
        "Numpy_arr[Numpy_arr<4]"
      ],
      "metadata": {
        "id": "BuAUnctfF-xg"
      },
      "execution_count": null,
      "outputs": []
    },
    {
      "cell_type": "markdown",
      "source": [
        "## array with values only 1's or 0's\n",
        "\n",
        "\n",
        "*   ones() function\n",
        "*   zeroes() funcion   \n",
        "\n",
        "\n",
        " "
      ],
      "metadata": {
        "id": "pwzAxiGzYa-_"
      }
    },
    {
      "cell_type": "code",
      "source": [
        "np.ones(4)"
      ],
      "metadata": {
        "id": "tyolOguDF-1C"
      },
      "execution_count": null,
      "outputs": []
    },
    {
      "cell_type": "code",
      "source": [
        "#1-d array \n",
        "np.ones(4,dtype=int)"
      ],
      "metadata": {
        "id": "PjTPMjnnF-4a"
      },
      "execution_count": null,
      "outputs": []
    },
    {
      "cell_type": "code",
      "source": [
        "np.zeros(4,dtype=int)\n"
      ],
      "metadata": {
        "id": "A_FBmKMTZaBr"
      },
      "execution_count": null,
      "outputs": []
    },
    {
      "cell_type": "code",
      "source": [
        "#2-d array \n",
        "np.ones((2,4),dtype=int)"
      ],
      "metadata": {
        "id": "In7BYs5DZOYI"
      },
      "execution_count": null,
      "outputs": []
    },
    {
      "cell_type": "code",
      "source": [
        "np.zeros((2,4),dtype=int)"
      ],
      "metadata": {
        "id": "vka2M1HSZklm"
      },
      "execution_count": null,
      "outputs": []
    },
    {
      "cell_type": "markdown",
      "source": [
        "## RANDOMLY SELECTED NUMPY ARRAYS "
      ],
      "metadata": {
        "id": "8xigRWPzabP0"
      }
    },
    {
      "cell_type": "code",
      "source": [
        "np.random.rand(3,3)\n",
        "\n"
      ],
      "metadata": {
        "id": "Fl-pbqnbZtfH"
      },
      "execution_count": null,
      "outputs": []
    },
    {
      "cell_type": "code",
      "source": [
        "np.random.randn(3,4)"
      ],
      "metadata": {
        "id": "kQuDmxXrar8X"
      },
      "execution_count": null,
      "outputs": []
    },
    {
      "cell_type": "code",
      "source": [
        "np.random.randint(1,100,8)"
      ],
      "metadata": {
        "id": "w3gXzuiTawku"
      },
      "execution_count": null,
      "outputs": []
    },
    {
      "cell_type": "code",
      "source": [
        ""
      ],
      "metadata": {
        "id": "juaTOUgfa3WL"
      },
      "execution_count": null,
      "outputs": []
    }
  ]
}