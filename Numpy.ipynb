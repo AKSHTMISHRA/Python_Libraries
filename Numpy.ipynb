{
  "nbformat": 4,
  "nbformat_minor": 0,
  "metadata": {
    "colab": {
      "name": "Numpy.ipynb",
      "provenance": [],
      "collapsed_sections": [],
      "authorship_tag": "ABX9TyPMqs4RDpPRC/y+enMj/U3k",
      "include_colab_link": true
    },
    "kernelspec": {
      "name": "python3",
      "display_name": "Python 3"
    },
    "language_info": {
      "name": "python"
    }
  },
  "cells": [
    {
      "cell_type": "markdown",
      "metadata": {
        "id": "view-in-github",
        "colab_type": "text"
      },
      "source": [
        "<a href=\"https://colab.research.google.com/github/AKSHTMISHRA/Python_libraries/blob/main/Numpy.ipynb\" target=\"_parent\"><img src=\"https://colab.research.google.com/assets/colab-badge.svg\" alt=\"Open In Colab\"/></a>"
      ]
    },
    {
      "cell_type": "code",
      "execution_count": 1,
      "metadata": {
        "id": "khYeliigFqd0"
      },
      "outputs": [],
      "source": [
        "#importing Numy dependency\n",
        "import numpy as np\n",
        " "
      ]
    },
    {
      "cell_type": "code",
      "source": [
        "#1d array using a provided list \n",
        "list1=([1,2,3,4])\n",
        "Numpy_arr=np.array(list1) \n"
      ],
      "metadata": {
        "id": "Yz93YqnkF8ng"
      },
      "execution_count": 2,
      "outputs": []
    },
    {
      "cell_type": "code",
      "source": [
        "Numpy_arr"
      ],
      "metadata": {
        "colab": {
          "base_uri": "https://localhost:8080/"
        },
        "id": "V9GzeA2XF9OP",
        "outputId": "0c92246b-2a01-4add-adae-f7199b450d17"
      },
      "execution_count": 3,
      "outputs": [
        {
          "output_type": "execute_result",
          "data": {
            "text/plain": [
              "array([1, 2, 3, 4])"
            ]
          },
          "metadata": {},
          "execution_count": 3
        }
      ]
    },
    {
      "cell_type": "code",
      "source": [
        "#check type of numpy array \n",
        "type(Numpy_arr)\n"
      ],
      "metadata": {
        "colab": {
          "base_uri": "https://localhost:8080/"
        },
        "id": "1tjBVkoCGqXy",
        "outputId": "1e2d0878-1018-4b9f-f1d0-0bb7683deb80"
      },
      "execution_count": 4,
      "outputs": [
        {
          "output_type": "execute_result",
          "data": {
            "text/plain": [
              "numpy.ndarray"
            ]
          },
          "metadata": {},
          "execution_count": 4
        }
      ]
    },
    {
      "cell_type": "code",
      "source": [
        "#checking shape of the numpy array \n",
        "Numpy_arr.shape\n"
      ],
      "metadata": {
        "colab": {
          "base_uri": "https://localhost:8080/"
        },
        "id": "cM8vnnyZF9Sa",
        "outputId": "3ddb0416-80c7-469c-c0bd-02fa4f38db8a"
      },
      "execution_count": 5,
      "outputs": [
        {
          "output_type": "execute_result",
          "data": {
            "text/plain": [
              "(4,)"
            ]
          },
          "metadata": {},
          "execution_count": 5
        }
      ]
    },
    {
      "cell_type": "code",
      "source": [
        "#reshaping the Numpy_arr\n",
        "# copy() function \n",
        "arr=Numpy_arr.copy()\n",
        "arr.reshape(2,2)"
      ],
      "metadata": {
        "colab": {
          "base_uri": "https://localhost:8080/"
        },
        "id": "XVKtq_w4Hel2",
        "outputId": "5f84db10-6fc1-49b1-970b-7abd5dbb9608"
      },
      "execution_count": 6,
      "outputs": [
        {
          "output_type": "execute_result",
          "data": {
            "text/plain": [
              "array([[1, 2],\n",
              "       [3, 4]])"
            ]
          },
          "metadata": {},
          "execution_count": 6
        }
      ]
    },
    {
      "cell_type": "code",
      "source": [
        "#checking the data type of the array \n",
        "Numpy_arr.dtype  "
      ],
      "metadata": {
        "colab": {
          "base_uri": "https://localhost:8080/"
        },
        "id": "g7oqBlaRF9WI",
        "outputId": "56c8843d-12ca-4514-b85a-2921f1cd8470"
      },
      "execution_count": 7,
      "outputs": [
        {
          "output_type": "execute_result",
          "data": {
            "text/plain": [
              "dtype('int64')"
            ]
          },
          "metadata": {},
          "execution_count": 7
        }
      ]
    },
    {
      "cell_type": "code",
      "source": [
        "#2d Numpy array using given list\n",
        "list1=([1,2,3,4])\n",
        "list2=([5,6,7,8])\n",
        "list3=([9,10,11,12]) \n"
      ],
      "metadata": {
        "id": "nla6-P7nF9Z6"
      },
      "execution_count": 8,
      "outputs": []
    },
    {
      "cell_type": "code",
      "source": [
        "d_arr=np.array([list1,list2,list3])"
      ],
      "metadata": {
        "id": "R5aPYrssF9dT"
      },
      "execution_count": 9,
      "outputs": []
    },
    {
      "cell_type": "code",
      "source": [
        "#checking the size \n",
        "d_arr.shape\n"
      ],
      "metadata": {
        "colab": {
          "base_uri": "https://localhost:8080/"
        },
        "id": "puatz5BLF9gx",
        "outputId": "3123859f-8c38-48d7-eacd-cc8bcb6f4893"
      },
      "execution_count": 10,
      "outputs": [
        {
          "output_type": "execute_result",
          "data": {
            "text/plain": [
              "(3, 4)"
            ]
          },
          "metadata": {},
          "execution_count": 10
        }
      ]
    },
    {
      "cell_type": "code",
      "source": [
        "d_arr.dtype"
      ],
      "metadata": {
        "colab": {
          "base_uri": "https://localhost:8080/"
        },
        "id": "fNgspk0UF9kp",
        "outputId": "a64ce9ee-eb26-4a18-fcd9-edc0e10eb9fe"
      },
      "execution_count": 11,
      "outputs": [
        {
          "output_type": "execute_result",
          "data": {
            "text/plain": [
              "dtype('int64')"
            ]
          },
          "metadata": {},
          "execution_count": 11
        }
      ]
    },
    {
      "cell_type": "code",
      "source": [
        "#reshaping the d_arr\n",
        "temp_d_arr=d_arr.copy()\n",
        "temp_d_arr.reshape(4,3)"
      ],
      "metadata": {
        "colab": {
          "base_uri": "https://localhost:8080/"
        },
        "id": "Mk52w7IrF9rc",
        "outputId": "f77d93e7-0ccf-419f-93fd-76c256508385"
      },
      "execution_count": 12,
      "outputs": [
        {
          "output_type": "execute_result",
          "data": {
            "text/plain": [
              "array([[ 1,  2,  3],\n",
              "       [ 4,  5,  6],\n",
              "       [ 7,  8,  9],\n",
              "       [10, 11, 12]])"
            ]
          },
          "metadata": {},
          "execution_count": 12
        }
      ]
    },
    {
      "cell_type": "markdown",
      "source": [
        "NOTE: \n",
        "while reshapeing  any 2-dimensional array it is to be kept in mind that\n",
        "the arg1 and arg2 of reshaping    && the original arguments i.e. Oarg1,Oarg2\n",
        "==> arg1 x arg2 == Oarg1 x Oarg2\n"
      ],
      "metadata": {
        "id": "im8ZNLXkJ43y"
      }
    },
    {
      "cell_type": "code",
      "source": [
        "##applicable\n",
        "#temp_d_arr.reshape(1,12)\n",
        "#temp_d_arr.reshape(2,6)\n",
        "temp_d_arr.reshape(6,2)"
      ],
      "metadata": {
        "colab": {
          "base_uri": "https://localhost:8080/"
        },
        "id": "4nMoB5apF9yI",
        "outputId": "344461fd-58ce-4837-c192-21fd606ad5c2"
      },
      "execution_count": 13,
      "outputs": [
        {
          "output_type": "execute_result",
          "data": {
            "text/plain": [
              "array([[ 1,  2],\n",
              "       [ 3,  4],\n",
              "       [ 5,  6],\n",
              "       [ 7,  8],\n",
              "       [ 9, 10],\n",
              "       [11, 12]])"
            ]
          },
          "metadata": {},
          "execution_count": 13
        }
      ]
    },
    {
      "cell_type": "code",
      "source": [
        "#unapplicable\n",
        "temp_d_arr.reshape(3,6)"
      ],
      "metadata": {
        "colab": {
          "base_uri": "https://localhost:8080/",
          "height": 183
        },
        "id": "Tmv_P8y2F91t",
        "outputId": "7c89e848-5dca-462c-d94d-049c1638b3ff"
      },
      "execution_count": 14,
      "outputs": [
        {
          "output_type": "error",
          "ename": "ValueError",
          "evalue": "ignored",
          "traceback": [
            "\u001b[0;31m---------------------------------------------------------------------------\u001b[0m",
            "\u001b[0;31mValueError\u001b[0m                                Traceback (most recent call last)",
            "\u001b[0;32m<ipython-input-14-599fb605a600>\u001b[0m in \u001b[0;36m<module>\u001b[0;34m()\u001b[0m\n\u001b[1;32m      1\u001b[0m \u001b[0;31m#unapplicable\u001b[0m\u001b[0;34m\u001b[0m\u001b[0;34m\u001b[0m\u001b[0;34m\u001b[0m\u001b[0m\n\u001b[0;32m----> 2\u001b[0;31m \u001b[0mtemp_d_arr\u001b[0m\u001b[0;34m.\u001b[0m\u001b[0mreshape\u001b[0m\u001b[0;34m(\u001b[0m\u001b[0;36m3\u001b[0m\u001b[0;34m,\u001b[0m\u001b[0;36m6\u001b[0m\u001b[0;34m)\u001b[0m\u001b[0;34m\u001b[0m\u001b[0;34m\u001b[0m\u001b[0m\n\u001b[0m",
            "\u001b[0;31mValueError\u001b[0m: cannot reshape array of size 12 into shape (3,6)"
          ]
        }
      ]
    },
    {
      "cell_type": "markdown",
      "source": [
        "# INDEXING  in numpy array  \n",
        "\n",
        "\n"
      ],
      "metadata": {
        "id": "y6ZN0lMxOQzk"
      }
    },
    {
      "cell_type": "markdown",
      "source": [
        "while indexing in a numpy array it should always  be remembered that the indexing in python always starts from 0."
      ],
      "metadata": {
        "id": "qSs9F1L1Ojyw"
      }
    },
    {
      "cell_type": "code",
      "source": [
        "#indexing 1d arr \n",
        "Numpy_arr\n"
      ],
      "metadata": {
        "id": "3qIygierF95N",
        "colab": {
          "base_uri": "https://localhost:8080/"
        },
        "outputId": "66a6e120-f5a5-4f6e-cacc-798c58ae5fd4"
      },
      "execution_count": 15,
      "outputs": [
        {
          "output_type": "execute_result",
          "data": {
            "text/plain": [
              "array([1, 2, 3, 4])"
            ]
          },
          "metadata": {},
          "execution_count": 15
        }
      ]
    },
    {
      "cell_type": "markdown",
      "source": [
        "while using : based indexing \n",
        "numpy_array[arg1,arg2]\n",
        "here,\n",
        "\n",
        "*   arg1--> always inclusive\n",
        "*   arg2--> always exclusive\n",
        "\n",
        "\n"
      ],
      "metadata": {
        "id": "RCanDrj9RAqZ"
      }
    },
    {
      "cell_type": "code",
      "source": [
        "#accesing random any element \n",
        "Numpy_arr[1]"
      ],
      "metadata": {
        "id": "vWlkAH6XF98d",
        "colab": {
          "base_uri": "https://localhost:8080/"
        },
        "outputId": "91eaa619-cdd0-45d3-f7ce-e504aedf75af"
      },
      "execution_count": 16,
      "outputs": [
        {
          "output_type": "execute_result",
          "data": {
            "text/plain": [
              "2"
            ]
          },
          "metadata": {},
          "execution_count": 16
        }
      ]
    },
    {
      "cell_type": "code",
      "source": [
        "Numpy_arr[:3]"
      ],
      "metadata": {
        "id": "Xu-86dLtF-AP",
        "colab": {
          "base_uri": "https://localhost:8080/"
        },
        "outputId": "02cf7f9d-d680-443b-c349-9d5d5b1e363e"
      },
      "execution_count": 17,
      "outputs": [
        {
          "output_type": "execute_result",
          "data": {
            "text/plain": [
              "array([1, 2, 3])"
            ]
          },
          "metadata": {},
          "execution_count": 17
        }
      ]
    },
    {
      "cell_type": "code",
      "source": [
        "Numpy_arr[1:3]"
      ],
      "metadata": {
        "id": "lmxI2FPXF-D3",
        "colab": {
          "base_uri": "https://localhost:8080/"
        },
        "outputId": "aed72155-59f6-47d5-b392-3e0b50d424e4"
      },
      "execution_count": 18,
      "outputs": [
        {
          "output_type": "execute_result",
          "data": {
            "text/plain": [
              "array([2, 3])"
            ]
          },
          "metadata": {},
          "execution_count": 18
        }
      ]
    },
    {
      "cell_type": "code",
      "source": [
        "Numpy_arr[:]\n",
        "#   OR"
      ],
      "metadata": {
        "id": "I1bDc8zKF-HZ",
        "colab": {
          "base_uri": "https://localhost:8080/"
        },
        "outputId": "a642db2a-e51b-4be5-a77f-8d4a489c49ff"
      },
      "execution_count": 19,
      "outputs": [
        {
          "output_type": "execute_result",
          "data": {
            "text/plain": [
              "array([1, 2, 3, 4])"
            ]
          },
          "metadata": {},
          "execution_count": 19
        }
      ]
    },
    {
      "cell_type": "code",
      "source": [
        "# indexing from back of the array \n",
        "Numpy_arr[:-1]\n",
        "Numpy_arr[:-3]"
      ],
      "metadata": {
        "id": "TQPG63xNF-Ky",
        "colab": {
          "base_uri": "https://localhost:8080/"
        },
        "outputId": "ff8a1dec-3815-40ac-b6e6-6fe5c65969ef"
      },
      "execution_count": 20,
      "outputs": [
        {
          "output_type": "execute_result",
          "data": {
            "text/plain": [
              "array([1])"
            ]
          },
          "metadata": {},
          "execution_count": 20
        }
      ]
    },
    {
      "cell_type": "code",
      "source": [
        "#indexing in 2d numpy array \n",
        "d_arr"
      ],
      "metadata": {
        "id": "jTNchxL4F-OO",
        "colab": {
          "base_uri": "https://localhost:8080/"
        },
        "outputId": "651910cf-696d-4dc6-fb91-fc6e9fbb2b2d"
      },
      "execution_count": 21,
      "outputs": [
        {
          "output_type": "execute_result",
          "data": {
            "text/plain": [
              "array([[ 1,  2,  3,  4],\n",
              "       [ 5,  6,  7,  8],\n",
              "       [ 9, 10, 11, 12]])"
            ]
          },
          "metadata": {},
          "execution_count": 21
        }
      ]
    },
    {
      "cell_type": "code",
      "source": [
        "\n",
        "#printing all the elements \n",
        "d_arr[:,:]"
      ],
      "metadata": {
        "id": "nqB8MGvlF-R9",
        "colab": {
          "base_uri": "https://localhost:8080/"
        },
        "outputId": "5a3240ab-fd4b-4051-d9a6-86df202a88a7"
      },
      "execution_count": 22,
      "outputs": [
        {
          "output_type": "execute_result",
          "data": {
            "text/plain": [
              "array([[ 1,  2,  3,  4],\n",
              "       [ 5,  6,  7,  8],\n",
              "       [ 9, 10, 11, 12]])"
            ]
          },
          "metadata": {},
          "execution_count": 22
        }
      ]
    },
    {
      "cell_type": "markdown",
      "source": [
        "while indexing in 2-dimensional Numpy array\n",
        "---\n",
        "\n",
        "Syntax: 2-Dimensinal_Numpy_Array[arg1:arg2,arg1*:arg2*]\n",
        "1.   arg1,arg1* ==> always inclusive \n",
        "2.   arg2,arg2* ==> always exclusive\n"
      ],
      "metadata": {
        "id": "5uSK0QzyRxKa"
      }
    },
    {
      "cell_type": "code",
      "source": [
        "d_arr[1:]"
      ],
      "metadata": {
        "id": "KP7bTOfXF-Vl",
        "colab": {
          "base_uri": "https://localhost:8080/"
        },
        "outputId": "1177bdf4-25f3-4b22-9c82-56a8c1f5380d"
      },
      "execution_count": 23,
      "outputs": [
        {
          "output_type": "execute_result",
          "data": {
            "text/plain": [
              "array([[ 5,  6,  7,  8],\n",
              "       [ 9, 10, 11, 12]])"
            ]
          },
          "metadata": {},
          "execution_count": 23
        }
      ]
    },
    {
      "cell_type": "code",
      "source": [
        "d_arr[1:2,1:3]"
      ],
      "metadata": {
        "id": "UlZVRC83F-Yt",
        "colab": {
          "base_uri": "https://localhost:8080/"
        },
        "outputId": "d259a397-3488-46f9-e070-840b4ba5b353"
      },
      "execution_count": 24,
      "outputs": [
        {
          "output_type": "execute_result",
          "data": {
            "text/plain": [
              "array([[6, 7]])"
            ]
          },
          "metadata": {},
          "execution_count": 24
        }
      ]
    },
    {
      "cell_type": "code",
      "source": [
        "d_arr[:-1]"
      ],
      "metadata": {
        "id": "Zdwe3fRRF-cF",
        "colab": {
          "base_uri": "https://localhost:8080/"
        },
        "outputId": "25ba5a7f-d9d2-472f-fcb0-1083e1e13263"
      },
      "execution_count": 25,
      "outputs": [
        {
          "output_type": "execute_result",
          "data": {
            "text/plain": [
              "array([[1, 2, 3, 4],\n",
              "       [5, 6, 7, 8]])"
            ]
          },
          "metadata": {},
          "execution_count": 25
        }
      ]
    },
    {
      "cell_type": "markdown",
      "source": [
        "### creating NUMPY ARRAY on the go \n",
        "arange() function\n",
        "syntax: arange(low,high,step=)\n",
        "here,\n",
        "\n",
        "\n",
        "\n",
        "1.   low- value always inclusive\n",
        "2.   high- value always exclusive \n",
        "3.   step- difference between the values \n",
        "\n",
        "\n"
      ],
      "metadata": {
        "id": "ZEKNVQbVUiPX"
      }
    },
    {
      "cell_type": "code",
      "source": [
        "arr=np.arange(0,10)\n",
        "arr"
      ],
      "metadata": {
        "id": "NlTUSUBaF-fI",
        "colab": {
          "base_uri": "https://localhost:8080/"
        },
        "outputId": "1aeaa48f-b60c-40bc-f6b9-56f8d2958122"
      },
      "execution_count": 26,
      "outputs": [
        {
          "output_type": "execute_result",
          "data": {
            "text/plain": [
              "array([0, 1, 2, 3, 4, 5, 6, 7, 8, 9])"
            ]
          },
          "metadata": {},
          "execution_count": 26
        }
      ]
    },
    {
      "cell_type": "code",
      "source": [
        "arr=np.arange(0,10,step=2)\n",
        "arr"
      ],
      "metadata": {
        "id": "M8-SFFTRF-iX",
        "colab": {
          "base_uri": "https://localhost:8080/"
        },
        "outputId": "71f9ebbd-2422-4918-f01d-1010b2a03c02"
      },
      "execution_count": 27,
      "outputs": [
        {
          "output_type": "execute_result",
          "data": {
            "text/plain": [
              "array([0, 2, 4, 6, 8])"
            ]
          },
          "metadata": {},
          "execution_count": 27
        }
      ]
    },
    {
      "cell_type": "code",
      "source": [
        "#linspace() function\n",
        "#Return evenly spaced numbers over a specified interval.\n",
        "np.linspace(1,10,50,dtype=int) "
      ],
      "metadata": {
        "id": "mkrOMH1dF-lo",
        "colab": {
          "base_uri": "https://localhost:8080/"
        },
        "outputId": "9fecd741-a2e1-4fff-d7b0-3b5f58fbd630"
      },
      "execution_count": 28,
      "outputs": [
        {
          "output_type": "execute_result",
          "data": {
            "text/plain": [
              "array([ 1,  1,  1,  1,  1,  1,  2,  2,  2,  2,  2,  3,  3,  3,  3,  3,  3,\n",
              "        4,  4,  4,  4,  4,  5,  5,  5,  5,  5,  5,  6,  6,  6,  6,  6,  7,\n",
              "        7,  7,  7,  7,  7,  8,  8,  8,  8,  8,  9,  9,  9,  9,  9, 10])"
            ]
          },
          "metadata": {},
          "execution_count": 28
        }
      ]
    },
    {
      "cell_type": "markdown",
      "source": [
        "### for values with conditions"
      ],
      "metadata": {
        "id": "L2OCL79oYBC2"
      }
    },
    {
      "cell_type": "code",
      "source": [
        "Numpy_arr\n"
      ],
      "metadata": {
        "id": "kOq-ad82F-rm",
        "colab": {
          "base_uri": "https://localhost:8080/"
        },
        "outputId": "30dbecc7-bb77-4a58-c766-fe2eea73ea7a"
      },
      "execution_count": 29,
      "outputs": [
        {
          "output_type": "execute_result",
          "data": {
            "text/plain": [
              "array([1, 2, 3, 4])"
            ]
          },
          "metadata": {},
          "execution_count": 29
        }
      ]
    },
    {
      "cell_type": "code",
      "source": [
        "Numpy_arr < 4"
      ],
      "metadata": {
        "id": "ey1svp5QF-uf",
        "colab": {
          "base_uri": "https://localhost:8080/"
        },
        "outputId": "c82f9786-0736-4fa1-c833-7eb2035c08ed"
      },
      "execution_count": 30,
      "outputs": [
        {
          "output_type": "execute_result",
          "data": {
            "text/plain": [
              "array([ True,  True,  True, False])"
            ]
          },
          "metadata": {},
          "execution_count": 30
        }
      ]
    },
    {
      "cell_type": "code",
      "source": [
        "#for values\n",
        "Numpy_arr[Numpy_arr<4]"
      ],
      "metadata": {
        "id": "BuAUnctfF-xg",
        "colab": {
          "base_uri": "https://localhost:8080/"
        },
        "outputId": "21991e71-cb50-4e29-f7f8-53b0628a3718"
      },
      "execution_count": 31,
      "outputs": [
        {
          "output_type": "execute_result",
          "data": {
            "text/plain": [
              "array([1, 2, 3])"
            ]
          },
          "metadata": {},
          "execution_count": 31
        }
      ]
    },
    {
      "cell_type": "markdown",
      "source": [
        "## array with values only 1's or 0's\n",
        "\n",
        "\n",
        "*   ones() function\n",
        "*   zeroes() funcion   \n",
        "\n",
        "\n",
        " "
      ],
      "metadata": {
        "id": "pwzAxiGzYa-_"
      }
    },
    {
      "cell_type": "code",
      "source": [
        "np.ones(4)"
      ],
      "metadata": {
        "id": "tyolOguDF-1C",
        "colab": {
          "base_uri": "https://localhost:8080/"
        },
        "outputId": "85ee7084-4fb1-4efb-9997-95c924f17508"
      },
      "execution_count": 32,
      "outputs": [
        {
          "output_type": "execute_result",
          "data": {
            "text/plain": [
              "array([1., 1., 1., 1.])"
            ]
          },
          "metadata": {},
          "execution_count": 32
        }
      ]
    },
    {
      "cell_type": "code",
      "source": [
        "#1-d array \n",
        "np.ones(4,dtype=int)"
      ],
      "metadata": {
        "id": "PjTPMjnnF-4a",
        "colab": {
          "base_uri": "https://localhost:8080/"
        },
        "outputId": "ca9ae552-54d4-4b9d-dc05-a5a151084f4b"
      },
      "execution_count": 33,
      "outputs": [
        {
          "output_type": "execute_result",
          "data": {
            "text/plain": [
              "array([1, 1, 1, 1])"
            ]
          },
          "metadata": {},
          "execution_count": 33
        }
      ]
    },
    {
      "cell_type": "code",
      "source": [
        "np.zeros(4,dtype=int)\n"
      ],
      "metadata": {
        "id": "A_FBmKMTZaBr",
        "colab": {
          "base_uri": "https://localhost:8080/"
        },
        "outputId": "0c76ee34-dae5-4efe-a5e8-a7403ff06fe8"
      },
      "execution_count": 34,
      "outputs": [
        {
          "output_type": "execute_result",
          "data": {
            "text/plain": [
              "array([0, 0, 0, 0])"
            ]
          },
          "metadata": {},
          "execution_count": 34
        }
      ]
    },
    {
      "cell_type": "code",
      "source": [
        "#2-d array \n",
        "np.ones((2,4),dtype=int)"
      ],
      "metadata": {
        "id": "In7BYs5DZOYI",
        "colab": {
          "base_uri": "https://localhost:8080/"
        },
        "outputId": "49e4c9fe-0f63-413d-a735-a930d96ffb55"
      },
      "execution_count": 35,
      "outputs": [
        {
          "output_type": "execute_result",
          "data": {
            "text/plain": [
              "array([[1, 1, 1, 1],\n",
              "       [1, 1, 1, 1]])"
            ]
          },
          "metadata": {},
          "execution_count": 35
        }
      ]
    },
    {
      "cell_type": "code",
      "source": [
        "np.zeros((2,4),dtype=int)"
      ],
      "metadata": {
        "id": "vka2M1HSZklm",
        "colab": {
          "base_uri": "https://localhost:8080/"
        },
        "outputId": "fbecc6c6-b06f-4731-b29a-d26d76a3a8b7"
      },
      "execution_count": 36,
      "outputs": [
        {
          "output_type": "execute_result",
          "data": {
            "text/plain": [
              "array([[0, 0, 0, 0],\n",
              "       [0, 0, 0, 0]])"
            ]
          },
          "metadata": {},
          "execution_count": 36
        }
      ]
    },
    {
      "cell_type": "markdown",
      "source": [
        "## RANDOMLY SELECTED NUMPY ARRAYS "
      ],
      "metadata": {
        "id": "8xigRWPzabP0"
      }
    },
    {
      "cell_type": "markdown",
      "source": [
        "Syntax: random.function( "
      ],
      "metadata": {
        "id": "yDl5C5i53ACk"
      }
    },
    {
      "cell_type": "code",
      "source": [
        "np.random.rand(3,3)"
      ],
      "metadata": {
        "id": "Fl-pbqnbZtfH",
        "colab": {
          "base_uri": "https://localhost:8080/"
        },
        "outputId": "37045611-05f7-496f-db26-0e5a43f78e7b"
      },
      "execution_count": 37,
      "outputs": [
        {
          "output_type": "execute_result",
          "data": {
            "text/plain": [
              "array([[0.78162708, 0.06287543, 0.77223005],\n",
              "       [0.05636838, 0.28673026, 0.49693059],\n",
              "       [0.4371451 , 0.44775259, 0.27128611]])"
            ]
          },
          "metadata": {},
          "execution_count": 37
        }
      ]
    },
    {
      "cell_type": "code",
      "source": [
        "np.random.randn(3,4)"
      ],
      "metadata": {
        "id": "kQuDmxXrar8X",
        "colab": {
          "base_uri": "https://localhost:8080/"
        },
        "outputId": "e8879c83-b092-4e1a-bfd2-93c1c71b003b"
      },
      "execution_count": 38,
      "outputs": [
        {
          "output_type": "execute_result",
          "data": {
            "text/plain": [
              "array([[-0.94598373, -1.17733198,  0.35156455,  0.0764945 ],\n",
              "       [-0.84307812,  0.11405891,  2.69487179, -0.84615828],\n",
              "       [ 1.17468956,  2.22574839,  0.14383007,  0.59944231]])"
            ]
          },
          "metadata": {},
          "execution_count": 38
        }
      ]
    },
    {
      "cell_type": "code",
      "source": [
        "np.random.randint(1,100,8)"
      ],
      "metadata": {
        "id": "w3gXzuiTawku",
        "colab": {
          "base_uri": "https://localhost:8080/"
        },
        "outputId": "2ed29754-749c-4640-9d5a-53c7e9695b9e"
      },
      "execution_count": 39,
      "outputs": [
        {
          "output_type": "execute_result",
          "data": {
            "text/plain": [
              "array([30, 77, 46, 75, 93, 41, 43, 47])"
            ]
          },
          "metadata": {},
          "execution_count": 39
        }
      ]
    },
    {
      "cell_type": "code",
      "source": [
        "np.random.randint(1,100)"
      ],
      "metadata": {
        "id": "juaTOUgfa3WL",
        "colab": {
          "base_uri": "https://localhost:8080/"
        },
        "outputId": "46eb7257-d30f-49fa-aab8-acdfe38ec2f4"
      },
      "execution_count": 40,
      "outputs": [
        {
          "output_type": "execute_result",
          "data": {
            "text/plain": [
              "69"
            ]
          },
          "metadata": {},
          "execution_count": 40
        }
      ]
    },
    {
      "cell_type": "code",
      "source": [
        "np.empty((2,4))"
      ],
      "metadata": {
        "colab": {
          "base_uri": "https://localhost:8080/"
        },
        "id": "K1A7AzfF24rD",
        "outputId": "fa1320a6-6c2f-4dad-8314-e39c8c41b711"
      },
      "execution_count": 42,
      "outputs": [
        {
          "output_type": "execute_result",
          "data": {
            "text/plain": [
              "array([[4.66735061e-310, 2.14321575e-312, 2.37663529e-312,\n",
              "        2.56761491e-312],\n",
              "       [1.06099790e-312, 1.10343781e-312, 2.12199579e-312,\n",
              "        0.00000000e+000]])"
            ]
          },
          "metadata": {},
          "execution_count": 42
        }
      ]
    },
    {
      "cell_type": "code",
      "source": [
        "#addition of two numpy array \n",
        "arr1=np.arange(0,4)\n",
        "arr2=np.arange(5,9)\n",
        "print(arr1+arr2) \n"
      ],
      "metadata": {
        "colab": {
          "base_uri": "https://localhost:8080/"
        },
        "id": "5OUWcJYdDi4m",
        "outputId": "08ca1795-9d0a-46ec-c9d9-36acb22a609b"
      },
      "execution_count": 43,
      "outputs": [
        {
          "output_type": "stream",
          "name": "stdout",
          "text": [
            "[ 5  7  9 11]\n"
          ]
        }
      ]
    },
    {
      "cell_type": "code",
      "source": [
        "#multiplication of two numpy array\n",
        "print(arr2*arr1)"
      ],
      "metadata": {
        "colab": {
          "base_uri": "https://localhost:8080/"
        },
        "id": "HrDBH0w2FwUr",
        "outputId": "30050d62-f5fd-463a-aba9-be6e0a50733a"
      },
      "execution_count": 44,
      "outputs": [
        {
          "output_type": "stream",
          "name": "stdout",
          "text": [
            "[ 0  6 14 24]\n"
          ]
        }
      ]
    },
    {
      "cell_type": "code",
      "source": [
        "arr1*2"
      ],
      "metadata": {
        "colab": {
          "base_uri": "https://localhost:8080/"
        },
        "id": "-xMf07KVGL7e",
        "outputId": "c12a8430-9cc0-41e4-a5e6-2230d6ce3976"
      },
      "execution_count": 45,
      "outputs": [
        {
          "output_type": "execute_result",
          "data": {
            "text/plain": [
              "array([0, 2, 4, 6])"
            ]
          },
          "metadata": {},
          "execution_count": 45
        }
      ]
    },
    {
      "cell_type": "code",
      "source": [
        "arr1"
      ],
      "metadata": {
        "colab": {
          "base_uri": "https://localhost:8080/"
        },
        "id": "_rwypXh4HRf1",
        "outputId": "d41f5cb6-091d-4601-ef9a-af2ffd36cbd4"
      },
      "execution_count": 46,
      "outputs": [
        {
          "output_type": "execute_result",
          "data": {
            "text/plain": [
              "array([0, 1, 2, 3])"
            ]
          },
          "metadata": {},
          "execution_count": 46
        }
      ]
    },
    {
      "cell_type": "code",
      "source": [
        ""
      ],
      "metadata": {
        "id": "KUJHd3JOHTIQ"
      },
      "execution_count": null,
      "outputs": []
    }
  ]
}